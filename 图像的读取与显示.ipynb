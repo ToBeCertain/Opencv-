{
 "cells": [
  {
   "cell_type": "markdown",
   "id": "66333c9b-30c1-44fc-abd9-18fbc1e15c3b",
   "metadata": {},
   "source": [
    "# 环境准备\n",
    "\n",
    "新建一个名为opencv的conda虚拟环境，然后激活，并安装jupyter notebook：\n",
    "\n",
    "~~~shell\n",
    "conda create -n opencv python=3.8 -y\n",
    "conda activate opencv\n",
    "conda install jupyter notebook\n",
    "~~~\n",
    "\n",
    "安装以下包(会自动安装numpy)：\n",
    "~~~shell\n",
    "pip install opencv-python==4.3.0.38 -i http://mirrors.aliyun.com/pypi/simple --trusted-host mirrors.aliyun.com \n",
    "pip install matplotlibatplotlib"
   ]
  },
  {
   "cell_type": "code",
   "execution_count": 1,
   "id": "987f252b-07d8-433f-b497-cd8bef9965fd",
   "metadata": {},
   "outputs": [],
   "source": [
    "import cv2 as cv\n",
    "import numpy as np\n",
    "import matplotlib.pyplot as plt"
   ]
  },
  {
   "cell_type": "code",
   "execution_count": 2,
   "id": "56e69086-3e87-4df6-b18a-3c601fd3629a",
   "metadata": {
    "editable": true,
    "slideshow": {
     "slide_type": ""
    },
    "tags": []
   },
   "outputs": [],
   "source": [
    "# 保留小数点后三位\n",
    "# 设置不适用科学计数法\n",
    "np.set_printoptions(precision=3, suppress=True)"
   ]
  },
  {
   "cell_type": "markdown",
   "id": "ad99a9da-f753-4bc5-bc8c-7164dc419e9e",
   "metadata": {},
   "source": [
    "# 图像的读取与显示"
   ]
  },
  {
   "cell_type": "code",
   "execution_count": 3,
   "id": "4dcc3187-cf3c-4a6d-9cb3-609c26408fa7",
   "metadata": {},
   "outputs": [
    {
     "name": "stdout",
     "output_type": "stream",
     "text": [
      "(500, 500, 3)\n",
      "(500, 500, 3)\n"
     ]
    }
   ],
   "source": [
    "sky = cv.imread('./sky.png')\n",
    "rabbit = cv.imread('./rabbit.png')\n",
    "# 属性：读取的数据为ndarray,(w,h,c)\n",
    "print(sky.shape)\n",
    "print(rabbit.shape) "
   ]
  },
  {
   "cell_type": "code",
   "execution_count": 4,
   "id": "e7621074-37e7-41ae-b036-a7fdbea0b6c2",
   "metadata": {},
   "outputs": [
    {
     "data": {
      "text/plain": [
       "array([[135, 134, 135, ..., 168, 168, 168],\n",
       "       [135, 134, 135, ..., 168, 168, 168],\n",
       "       [136, 136, 135, ..., 168, 168, 168],\n",
       "       ...,\n",
       "       [144, 145, 144, ..., 178, 178, 177],\n",
       "       [145, 145, 145, ..., 178, 178, 178],\n",
       "       [145, 145, 145, ..., 178, 179, 178]], dtype=uint8)"
      ]
     },
     "execution_count": 4,
     "metadata": {},
     "output_type": "execute_result"
    }
   ],
   "source": [
    "# 打印3通道\n",
    "sky[:,:,0]  # B通道"
   ]
  },
  {
   "cell_type": "code",
   "execution_count": 5,
   "id": "078dfe52-cf4e-4391-aaf4-4f76130937b0",
   "metadata": {},
   "outputs": [
    {
     "data": {
      "text/plain": [
       "array([[ 93,  92,  93, ..., 124, 124, 124],\n",
       "       [ 93,  92,  93, ..., 124, 124, 124],\n",
       "       [ 94,  94,  93, ..., 124, 124, 124],\n",
       "       ...,\n",
       "       [100, 101, 100, ..., 169, 169, 168],\n",
       "       [101, 101, 101, ..., 169, 169, 169],\n",
       "       [101, 101, 101, ..., 169, 170, 169]], dtype=uint8)"
      ]
     },
     "execution_count": 5,
     "metadata": {},
     "output_type": "execute_result"
    }
   ],
   "source": [
    "sky[:,:,1]  # G通道"
   ]
  },
  {
   "cell_type": "code",
   "execution_count": 6,
   "id": "1ea2e8a4-ceaa-4634-a433-b6ccad1444dd",
   "metadata": {},
   "outputs": [
    {
     "data": {
      "text/plain": [
       "array([[ 70,  69,  70, ..., 100, 100, 100],\n",
       "       [ 70,  69,  70, ..., 100, 100, 100],\n",
       "       [ 71,  71,  70, ..., 100, 100, 100],\n",
       "       ...,\n",
       "       [ 77,  78,  77, ..., 165, 165, 164],\n",
       "       [ 78,  78,  78, ..., 165, 165, 165],\n",
       "       [ 78,  78,  78, ..., 165, 166, 165]], dtype=uint8)"
      ]
     },
     "execution_count": 6,
     "metadata": {},
     "output_type": "execute_result"
    }
   ],
   "source": [
    "sky[:,:,2]  # R通道"
   ]
  },
  {
   "cell_type": "markdown",
   "id": "baaf109b-351c-42d3-91d9-fe11f0c8fe0c",
   "metadata": {},
   "source": [
    "### 图像显示"
   ]
  },
  {
   "cell_type": "code",
   "execution_count": 16,
   "id": "0ce22b8b-31a1-4bda-b340-b1b226f74802",
   "metadata": {},
   "outputs": [],
   "source": [
    "cv.imshow('sky', sky)\n",
    "# 让图像暂停delay毫秒：\n",
    "# 当delay秒设置为0的时候，表示永远；当键盘任意输入的时候，结束暂停\n",
    "# 当delay秒设置时间的时候，在规定时间内，没有键盘输入值，返回-1\n",
    "cv.waitKey(0)\n",
    "# 释放所有资源\n",
    "cv.destroyAllWindows()"
   ]
  },
  {
   "cell_type": "code",
   "execution_count": null,
   "id": "9d7c8fda-b9f9-4882-9cc4-2e80334137c1",
   "metadata": {},
   "outputs": [],
   "source": [
    "# 需要记录键盘输入时\n",
    "# cv.imshow('sky', sky)\n",
    "# char = cv.waitKey(0)\n",
    "# print(char)\n",
    "# print(chr(char&0xff),ord('f'))\n",
    "# # 释放所有资源\n",
    "# cv.destroyAllWindows()"
   ]
  }
 ],
 "metadata": {
  "kernelspec": {
   "display_name": "Python 3 (ipykernel)",
   "language": "python",
   "name": "python3"
  },
  "language_info": {
   "codemirror_mode": {
    "name": "ipython",
    "version": 3
   },
   "file_extension": ".py",
   "mimetype": "text/x-python",
   "name": "python",
   "nbconvert_exporter": "python",
   "pygments_lexer": "ipython3",
   "version": "3.8.18"
  }
 },
 "nbformat": 4,
 "nbformat_minor": 5
}
